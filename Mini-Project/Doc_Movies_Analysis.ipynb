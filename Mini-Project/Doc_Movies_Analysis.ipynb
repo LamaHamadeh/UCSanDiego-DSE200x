{
 "cells": [
  {
   "cell_type": "markdown",
   "metadata": {},
   "source": [
    "This file is to analyse the rating behaviour of documentary movies over 121 years; starting from 1894 until 2015."
   ]
  },
  {
   "cell_type": "markdown",
   "metadata": {},
   "source": [
    "Importing libraries"
   ]
  },
  {
   "cell_type": "code",
   "execution_count": 2,
   "metadata": {
    "collapsed": true
   },
   "outputs": [],
   "source": [
    "import pandas as pd \n",
    "import matplotlib.pyplot as plt\n",
    "from matplotlib import style\n",
    "style.use(\"ggplot\")"
   ]
  },
  {
   "cell_type": "markdown",
   "metadata": {},
   "source": [
    "reading the movie dataframe"
   ]
  },
  {
   "cell_type": "code",
   "execution_count": 4,
   "metadata": {},
   "outputs": [
    {
     "name": "stdout",
     "output_type": "stream",
     "text": [
      "Shape (27278, 3)\n",
      "   movieId                               title  \\\n",
      "0        1                    Toy Story (1995)   \n",
      "1        2                      Jumanji (1995)   \n",
      "2        3             Grumpier Old Men (1995)   \n",
      "3        4            Waiting to Exhale (1995)   \n",
      "4        5  Father of the Bride Part II (1995)   \n",
      "\n",
      "                                        genres  \n",
      "0  Adventure|Animation|Children|Comedy|Fantasy  \n",
      "1                   Adventure|Children|Fantasy  \n",
      "2                               Comedy|Romance  \n",
      "3                         Comedy|Drama|Romance  \n",
      "4                                       Comedy  \n",
      "             movieId\n",
      "count   27278.000000\n",
      "mean    59855.480570\n",
      "std     44429.314697\n",
      "min         1.000000\n",
      "25%      6931.250000\n",
      "50%     68068.000000\n",
      "75%    100293.250000\n",
      "max    131262.000000\n"
     ]
    }
   ],
   "source": [
    "Mov = pd.read_csv('/Users/lamahamadeh/Downloads/ml-20m/movies.csv')\n",
    "print ('Shape', Mov.shape)\n",
    "print (Mov.head(5))\n",
    "print (Mov.describe())"
   ]
  },
  {
   "cell_type": "markdown",
   "metadata": {},
   "source": [
    "Splitting the year from the tilte coloum to a separate colum called 'year'"
   ]
  },
  {
   "cell_type": "code",
   "execution_count": 5,
   "metadata": {},
   "outputs": [
    {
     "name": "stdout",
     "output_type": "stream",
     "text": [
      "   movieId                               title  \\\n",
      "0        1                    Toy Story (1995)   \n",
      "1        2                      Jumanji (1995)   \n",
      "2        3             Grumpier Old Men (1995)   \n",
      "3        4            Waiting to Exhale (1995)   \n",
      "4        5  Father of the Bride Part II (1995)   \n",
      "\n",
      "                                        genres  year  \n",
      "0  Adventure|Animation|Children|Comedy|Fantasy  1995  \n",
      "1                   Adventure|Children|Fantasy  1995  \n",
      "2                               Comedy|Romance  1995  \n",
      "3                         Comedy|Drama|Romance  1995  \n",
      "4                                       Comedy  1995  \n"
     ]
    }
   ],
   "source": [
    "Mov['year'] = Mov['title'].str.extract('.*\\((.*)\\).*',expand = True)\n",
    "print(Mov.head())"
   ]
  },
  {
   "cell_type": "markdown",
   "metadata": {},
   "source": [
    "Read the ratings dataframe"
   ]
  },
  {
   "cell_type": "code",
   "execution_count": 7,
   "metadata": {},
   "outputs": [
    {
     "name": "stdout",
     "output_type": "stream",
     "text": [
      "Shape (20000263, 3)\n",
      "          userId  movieId  rating\n",
      "20000259  138493    69526     4.5\n",
      "20000260  138493    69644     3.0\n",
      "20000261  138493    70286     5.0\n",
      "20000262  138493    71619     2.5\n",
      "             userId       movieId        rating\n",
      "count  2.000026e+07  2.000026e+07  2.000026e+07\n",
      "mean   6.904587e+04  9.041567e+03  3.525529e+00\n",
      "std    4.003863e+04  1.978948e+04  1.051989e+00\n",
      "min    1.000000e+00  1.000000e+00  5.000000e-01\n",
      "25%    3.439500e+04  9.020000e+02  3.000000e+00\n",
      "50%    6.914100e+04  2.167000e+03  3.500000e+00\n",
      "75%    1.036370e+05  4.770000e+03  4.000000e+00\n",
      "max    1.384930e+05  1.312620e+05  5.000000e+00\n"
     ]
    }
   ],
   "source": [
    "rat = pd.read_csv('/Users/lamahamadeh/Downloads/ml-20m/ratings.csv')\n",
    "del rat['timestamp']\n",
    "print ('Shape',rat.shape)\n",
    "print (rat.tail(4))\n",
    "print (rat.describe())"
   ]
  },
  {
   "cell_type": "markdown",
   "metadata": {},
   "source": [
    "Create the Box_office dataframe which is the merging between Mov and rat dataframs."
   ]
  },
  {
   "cell_type": "code",
   "execution_count": 8,
   "metadata": {},
   "outputs": [
    {
     "name": "stdout",
     "output_type": "stream",
     "text": [
      "Shape (26744, 6)\n",
      "   movieId                               title  \\\n",
      "0        1                    Toy Story (1995)   \n",
      "1        2                      Jumanji (1995)   \n",
      "2        3             Grumpier Old Men (1995)   \n",
      "3        4            Waiting to Exhale (1995)   \n",
      "4        5  Father of the Bride Part II (1995)   \n",
      "\n",
      "                                        genres  year        userId    rating  \n",
      "0  Adventure|Animation|Children|Comedy|Fantasy  1995  69282.396821  3.921240  \n",
      "1                   Adventure|Children|Fantasy  1995  69169.928202  3.211977  \n",
      "2                               Comedy|Romance  1995  69072.079388  3.151040  \n",
      "3                         Comedy|Drama|Romance  1995  69652.913280  2.861393  \n",
      "4                                       Comedy  1995  69113.475454  3.064592  \n"
     ]
    }
   ],
   "source": [
    "avg_rat = rat.groupby('movieId', as_index = False).mean()\n",
    "box_office = Mov.merge(avg_rat, on = 'movieId', how = 'inner')\n",
    "print ('Shape',box_office.shape)\n",
    "print(box_office.head(5))"
   ]
  },
  {
   "cell_type": "markdown",
   "metadata": {},
   "source": [
    "Create the documentary sub-dataframe "
   ]
  },
  {
   "cell_type": "code",
   "execution_count": 9,
   "metadata": {},
   "outputs": [
    {
     "name": "stdout",
     "output_type": "stream",
     "text": [
      "     movieId                                 title       genres  year  \\\n",
      "76        77                      Nico Icon (1995)  Documentary  1995   \n",
      "97        99  Heidi Fleiss: Hollywood Madam (1995)  Documentary  1995   \n",
      "106      108                        Catwalk (1996)  Documentary  1996   \n",
      "114      116          Anne Frank Remembered (1995)  Documentary  1995   \n",
      "126      128                 Jupiter's Wife (1994)  Documentary  1994   \n",
      "\n",
      "           userId    rating  \n",
      "76   69214.904977  3.429864  \n",
      "97   70378.853994  3.105372  \n",
      "106  71305.304000  3.092000  \n",
      "114  69986.770285  3.937302  \n",
      "126  63884.613333  3.500000  \n",
      "(1879, 6)\n",
      "movieId      int64\n",
      "title       object\n",
      "genres      object\n",
      "year        object\n",
      "userId     float64\n",
      "rating     float64\n",
      "dtype: object\n"
     ]
    }
   ],
   "source": [
    "Doc = box_office [(box_office.genres == 'Documentary')]\n",
    "print(Doc.head(5))\n",
    "print(Doc.shape)\n",
    "print (Doc.dtypes)"
   ]
  },
  {
   "cell_type": "markdown",
   "metadata": {},
   "source": [
    "Changing the type of year coloum from object to numeric"
   ]
  },
  {
   "cell_type": "code",
   "execution_count": 10,
   "metadata": {},
   "outputs": [
    {
     "name": "stdout",
     "output_type": "stream",
     "text": [
      "Year Min: 1894.0 Year Max: 2015.0\n",
      "movieId      int64\n",
      "title       object\n",
      "genres      object\n",
      "year       float64\n",
      "userId     float64\n",
      "rating     float64\n",
      "dtype: object\n"
     ]
    },
    {
     "name": "stderr",
     "output_type": "stream",
     "text": [
      "/Applications/anaconda/lib/python3.5/site-packages/ipykernel/__main__.py:1: SettingWithCopyWarning: \n",
      "A value is trying to be set on a copy of a slice from a DataFrame.\n",
      "Try using .loc[row_indexer,col_indexer] = value instead\n",
      "\n",
      "See the caveats in the documentation: http://pandas.pydata.org/pandas-docs/stable/indexing.html#indexing-view-versus-copy\n",
      "  if __name__ == '__main__':\n"
     ]
    }
   ],
   "source": [
    "Doc['year'] = pd.to_numeric(Doc['year'], errors='coerce')\n",
    "print('Year Min:', Doc['year'].min(), 'Year Max:', Doc['year'].max())\n",
    "print (Doc.dtypes)"
   ]
  },
  {
   "cell_type": "markdown",
   "metadata": {},
   "source": [
    "Data Visulaisation"
   ]
  },
  {
   "cell_type": "code",
   "execution_count": 11,
   "metadata": {},
   "outputs": [
    {
     "data": {
      "image/png": "[encoded data removed]",
      "text/plain": [
       "<matplotlib.figure.Figure at 0x112f6e3c8>"
      ]
     },
     "metadata": {},
     "output_type": "display_data"
    }
   ],
   "source": [
    "plt.scatter(x=Doc['year'],y=Doc['rating'],color = 'blue')\n",
    "plt.title('Documentary Movies Rating From 1894 Until 2015')\n",
    "plt.xlabel('Year')\n",
    "plt.ylabel('Rating')\n",
    "plt.grid(True)\n",
    "plt.show()"
   ]
  },
  {
   "cell_type": "code",
   "execution_count": null,
   "metadata": {
    "collapsed": true
   },
   "outputs": [],
   "source": []
  }
 ],
 "metadata": {
  "anaconda-cloud": {},
  "kernelspec": {
   "display_name": "Python [conda root]",
   "language": "python",
   "name": "conda-root-py"
  },
  "language_info": {
   "codemirror_mode": {
    "name": "ipython",
    "version": 3
   },
   "file_extension": ".py",
   "mimetype": "text/x-python",
   "name": "python",
   "nbconvert_exporter": "python",
   "pygments_lexer": "ipython3",
   "version": "3.5.2"
  }
 },
 "nbformat": 4,
 "nbformat_minor": 1
}
